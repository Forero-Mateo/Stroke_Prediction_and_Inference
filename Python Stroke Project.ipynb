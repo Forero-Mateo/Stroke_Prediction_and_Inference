{
 "cells": [
  {
   "cell_type": "markdown",
   "id": "b7d6c538",
   "metadata": {},
   "source": [
    "---\n",
    "### CIS 575 Project\n",
    "### Mateo Forero\n",
    "---"
   ]
  },
  {
   "cell_type": "markdown",
   "id": "97a51fe9",
   "metadata": {},
   "source": [
    "Import all necessary libraries"
   ]
  },
  {
   "cell_type": "code",
   "execution_count": 89,
   "id": "cdb3ea06",
   "metadata": {},
   "outputs": [],
   "source": [
    "# Data exploration\n",
    "import pandas as pd\n",
    "import matplotlib.pyplot as plt\n",
    "import seaborn as sns\n",
    "import numpy as np\n",
    "from tabulate import tabulate\n",
    "# Missing value imputation\n",
    "import miceforest as mf \n",
    "# Data Processing\n",
    "from sklearn.model_selection import train_test_split\n",
    "from sklearn.model_selection import StratifiedKFold\n",
    "from imblearn.over_sampling import SMOTE\n",
    "# Model Metrics\n",
    "from sklearn.metrics import fbeta_score\n",
    "from sklearn.metrics import accuracy_score\n",
    "from sklearn.metrics import confusion_matrix\n",
    "# Hyperparameter Optimization\n",
    "from sklearn.model_selection import GridSearchCV\n",
    "from sklearn.model_selection import RandomizedSearchCV\n",
    "# Models\n",
    "from sklearn.ensemble import RandomForestClassifier\n",
    "from sklearn.ensemble import GradientBoostingClassifier\n",
    "import statsmodels.api as sm\n",
    "# Feature Importance\n",
    "from sklearn.inspection import PartialDependenceDisplay"
   ]
  },
  {
   "cell_type": "markdown",
   "id": "62f0d574",
   "metadata": {},
   "source": [
    "# Processing Data\n",
    "\n",
    "First step is to load the data set we are planning to use and investigate some of its properties. Additionally the ID column is being dropped and the natural index of the tibble will be used. The decision is being made to only work with adults. The data set has 856 cases where the patient is below the age of 18 and of those cases only 2 have had a stroke (0.23%). The rate of stroke in children is much lower than those in adults (estimated as 4.6 per 100,000 children), and is commonly associated with risk factors not captured in this data set (e.g genetic conditions). This will allow for a more focused study.  \n"
   ]
  },
  {
   "cell_type": "code",
   "execution_count": 3,
   "id": "babad488",
   "metadata": {},
   "outputs": [],
   "source": [
    "raw_data = pd.read_csv('healthcare-dataset-stroke-data.csv')\n",
    "raw_data.drop('id',axis = 1,inplace = True)\n",
    "adult_data = raw_data[raw_data['age'] >= 18]"
   ]
  },
  {
   "cell_type": "code",
   "execution_count": 4,
   "id": "11d8098b",
   "metadata": {},
   "outputs": [
    {
     "data": {
      "text/html": [
       "<div>\n",
       "<style scoped>\n",
       "    .dataframe tbody tr th:only-of-type {\n",
       "        vertical-align: middle;\n",
       "    }\n",
       "\n",
       "    .dataframe tbody tr th {\n",
       "        vertical-align: top;\n",
       "    }\n",
       "\n",
       "    .dataframe thead th {\n",
       "        text-align: right;\n",
       "    }\n",
       "</style>\n",
       "<table border=\"1\" class=\"dataframe\">\n",
       "  <thead>\n",
       "    <tr style=\"text-align: right;\">\n",
       "      <th></th>\n",
       "      <th>gender</th>\n",
       "      <th>age</th>\n",
       "      <th>hypertension</th>\n",
       "      <th>heart_disease</th>\n",
       "      <th>ever_married</th>\n",
       "      <th>work_type</th>\n",
       "      <th>Residence_type</th>\n",
       "      <th>avg_glucose_level</th>\n",
       "      <th>bmi</th>\n",
       "      <th>smoking_status</th>\n",
       "      <th>stroke</th>\n",
       "    </tr>\n",
       "  </thead>\n",
       "  <tbody>\n",
       "    <tr>\n",
       "      <th>0</th>\n",
       "      <td>Male</td>\n",
       "      <td>67.0</td>\n",
       "      <td>0</td>\n",
       "      <td>1</td>\n",
       "      <td>Yes</td>\n",
       "      <td>Private</td>\n",
       "      <td>Urban</td>\n",
       "      <td>228.69</td>\n",
       "      <td>36.6</td>\n",
       "      <td>formerly smoked</td>\n",
       "      <td>1</td>\n",
       "    </tr>\n",
       "    <tr>\n",
       "      <th>1</th>\n",
       "      <td>Female</td>\n",
       "      <td>61.0</td>\n",
       "      <td>0</td>\n",
       "      <td>0</td>\n",
       "      <td>Yes</td>\n",
       "      <td>Self-employed</td>\n",
       "      <td>Rural</td>\n",
       "      <td>202.21</td>\n",
       "      <td>NaN</td>\n",
       "      <td>never smoked</td>\n",
       "      <td>1</td>\n",
       "    </tr>\n",
       "    <tr>\n",
       "      <th>2</th>\n",
       "      <td>Male</td>\n",
       "      <td>80.0</td>\n",
       "      <td>0</td>\n",
       "      <td>1</td>\n",
       "      <td>Yes</td>\n",
       "      <td>Private</td>\n",
       "      <td>Rural</td>\n",
       "      <td>105.92</td>\n",
       "      <td>32.5</td>\n",
       "      <td>never smoked</td>\n",
       "      <td>1</td>\n",
       "    </tr>\n",
       "    <tr>\n",
       "      <th>3</th>\n",
       "      <td>Female</td>\n",
       "      <td>49.0</td>\n",
       "      <td>0</td>\n",
       "      <td>0</td>\n",
       "      <td>Yes</td>\n",
       "      <td>Private</td>\n",
       "      <td>Urban</td>\n",
       "      <td>171.23</td>\n",
       "      <td>34.4</td>\n",
       "      <td>smokes</td>\n",
       "      <td>1</td>\n",
       "    </tr>\n",
       "    <tr>\n",
       "      <th>4</th>\n",
       "      <td>Female</td>\n",
       "      <td>79.0</td>\n",
       "      <td>1</td>\n",
       "      <td>0</td>\n",
       "      <td>Yes</td>\n",
       "      <td>Self-employed</td>\n",
       "      <td>Rural</td>\n",
       "      <td>174.12</td>\n",
       "      <td>24.0</td>\n",
       "      <td>never smoked</td>\n",
       "      <td>1</td>\n",
       "    </tr>\n",
       "  </tbody>\n",
       "</table>\n",
       "</div>"
      ],
      "text/plain": [
       "   gender   age  hypertension  heart_disease ever_married      work_type  \\\n",
       "0    Male  67.0             0              1          Yes        Private   \n",
       "1  Female  61.0             0              0          Yes  Self-employed   \n",
       "2    Male  80.0             0              1          Yes        Private   \n",
       "3  Female  49.0             0              0          Yes        Private   \n",
       "4  Female  79.0             1              0          Yes  Self-employed   \n",
       "\n",
       "  Residence_type  avg_glucose_level   bmi   smoking_status  stroke  \n",
       "0          Urban             228.69  36.6  formerly smoked       1  \n",
       "1          Rural             202.21   NaN     never smoked       1  \n",
       "2          Rural             105.92  32.5     never smoked       1  \n",
       "3          Urban             171.23  34.4           smokes       1  \n",
       "4          Rural             174.12  24.0     never smoked       1  "
      ]
     },
     "execution_count": 4,
     "metadata": {},
     "output_type": "execute_result"
    }
   ],
   "source": [
    "adult_data.head()"
   ]
  },
  {
   "cell_type": "code",
   "execution_count": 5,
   "id": "d8a0bbd4",
   "metadata": {},
   "outputs": [
    {
     "data": {
      "text/plain": [
       "gender                object\n",
       "age                  float64\n",
       "hypertension           int64\n",
       "heart_disease          int64\n",
       "ever_married          object\n",
       "work_type             object\n",
       "Residence_type        object\n",
       "avg_glucose_level    float64\n",
       "bmi                  float64\n",
       "smoking_status        object\n",
       "stroke                 int64\n",
       "dtype: object"
      ]
     },
     "execution_count": 5,
     "metadata": {},
     "output_type": "execute_result"
    }
   ],
   "source": [
    "adult_data.dtypes"
   ]
  },
  {
   "cell_type": "code",
   "execution_count": 6,
   "id": "72cac1a0",
   "metadata": {},
   "outputs": [
    {
     "data": {
      "text/html": [
       "<div>\n",
       "<style scoped>\n",
       "    .dataframe tbody tr th:only-of-type {\n",
       "        vertical-align: middle;\n",
       "    }\n",
       "\n",
       "    .dataframe tbody tr th {\n",
       "        vertical-align: top;\n",
       "    }\n",
       "\n",
       "    .dataframe thead th {\n",
       "        text-align: right;\n",
       "    }\n",
       "</style>\n",
       "<table border=\"1\" class=\"dataframe\">\n",
       "  <thead>\n",
       "    <tr style=\"text-align: right;\">\n",
       "      <th></th>\n",
       "      <th>gender</th>\n",
       "      <th>age</th>\n",
       "      <th>hypertension</th>\n",
       "      <th>heart_disease</th>\n",
       "      <th>ever_married</th>\n",
       "      <th>work_type</th>\n",
       "      <th>Residence_type</th>\n",
       "      <th>avg_glucose_level</th>\n",
       "      <th>bmi</th>\n",
       "      <th>smoking_status</th>\n",
       "      <th>stroke</th>\n",
       "    </tr>\n",
       "  </thead>\n",
       "  <tbody>\n",
       "    <tr>\n",
       "      <th>count</th>\n",
       "      <td>4254</td>\n",
       "      <td>4254.000000</td>\n",
       "      <td>4254.000000</td>\n",
       "      <td>4254.000000</td>\n",
       "      <td>4254</td>\n",
       "      <td>4254</td>\n",
       "      <td>4254</td>\n",
       "      <td>4254.000000</td>\n",
       "      <td>4073.000000</td>\n",
       "      <td>4254</td>\n",
       "      <td>4254.000000</td>\n",
       "    </tr>\n",
       "    <tr>\n",
       "      <th>unique</th>\n",
       "      <td>3</td>\n",
       "      <td>NaN</td>\n",
       "      <td>NaN</td>\n",
       "      <td>NaN</td>\n",
       "      <td>2</td>\n",
       "      <td>4</td>\n",
       "      <td>2</td>\n",
       "      <td>NaN</td>\n",
       "      <td>NaN</td>\n",
       "      <td>4</td>\n",
       "      <td>NaN</td>\n",
       "    </tr>\n",
       "    <tr>\n",
       "      <th>top</th>\n",
       "      <td>Female</td>\n",
       "      <td>NaN</td>\n",
       "      <td>NaN</td>\n",
       "      <td>NaN</td>\n",
       "      <td>Yes</td>\n",
       "      <td>Private</td>\n",
       "      <td>Urban</td>\n",
       "      <td>NaN</td>\n",
       "      <td>NaN</td>\n",
       "      <td>never smoked</td>\n",
       "      <td>NaN</td>\n",
       "    </tr>\n",
       "    <tr>\n",
       "      <th>freq</th>\n",
       "      <td>2576</td>\n",
       "      <td>NaN</td>\n",
       "      <td>NaN</td>\n",
       "      <td>NaN</td>\n",
       "      <td>3353</td>\n",
       "      <td>2791</td>\n",
       "      <td>2169</td>\n",
       "      <td>NaN</td>\n",
       "      <td>NaN</td>\n",
       "      <td>1752</td>\n",
       "      <td>NaN</td>\n",
       "    </tr>\n",
       "    <tr>\n",
       "      <th>mean</th>\n",
       "      <td>NaN</td>\n",
       "      <td>50.202163</td>\n",
       "      <td>0.116831</td>\n",
       "      <td>0.064645</td>\n",
       "      <td>NaN</td>\n",
       "      <td>NaN</td>\n",
       "      <td>NaN</td>\n",
       "      <td>108.514394</td>\n",
       "      <td>30.432752</td>\n",
       "      <td>NaN</td>\n",
       "      <td>0.058063</td>\n",
       "    </tr>\n",
       "    <tr>\n",
       "      <th>std</th>\n",
       "      <td>NaN</td>\n",
       "      <td>17.829035</td>\n",
       "      <td>0.321257</td>\n",
       "      <td>0.245927</td>\n",
       "      <td>NaN</td>\n",
       "      <td>NaN</td>\n",
       "      <td>NaN</td>\n",
       "      <td>47.769400</td>\n",
       "      <td>7.235143</td>\n",
       "      <td>NaN</td>\n",
       "      <td>0.233890</td>\n",
       "    </tr>\n",
       "    <tr>\n",
       "      <th>min</th>\n",
       "      <td>NaN</td>\n",
       "      <td>18.000000</td>\n",
       "      <td>0.000000</td>\n",
       "      <td>0.000000</td>\n",
       "      <td>NaN</td>\n",
       "      <td>NaN</td>\n",
       "      <td>NaN</td>\n",
       "      <td>55.120000</td>\n",
       "      <td>11.300000</td>\n",
       "      <td>NaN</td>\n",
       "      <td>0.000000</td>\n",
       "    </tr>\n",
       "    <tr>\n",
       "      <th>25%</th>\n",
       "      <td>NaN</td>\n",
       "      <td>36.000000</td>\n",
       "      <td>0.000000</td>\n",
       "      <td>0.000000</td>\n",
       "      <td>NaN</td>\n",
       "      <td>NaN</td>\n",
       "      <td>NaN</td>\n",
       "      <td>77.482500</td>\n",
       "      <td>25.400000</td>\n",
       "      <td>NaN</td>\n",
       "      <td>0.000000</td>\n",
       "    </tr>\n",
       "    <tr>\n",
       "      <th>50%</th>\n",
       "      <td>NaN</td>\n",
       "      <td>50.500000</td>\n",
       "      <td>0.000000</td>\n",
       "      <td>0.000000</td>\n",
       "      <td>NaN</td>\n",
       "      <td>NaN</td>\n",
       "      <td>NaN</td>\n",
       "      <td>92.465000</td>\n",
       "      <td>29.200000</td>\n",
       "      <td>NaN</td>\n",
       "      <td>0.000000</td>\n",
       "    </tr>\n",
       "    <tr>\n",
       "      <th>75%</th>\n",
       "      <td>NaN</td>\n",
       "      <td>64.000000</td>\n",
       "      <td>0.000000</td>\n",
       "      <td>0.000000</td>\n",
       "      <td>NaN</td>\n",
       "      <td>NaN</td>\n",
       "      <td>NaN</td>\n",
       "      <td>116.135000</td>\n",
       "      <td>34.200000</td>\n",
       "      <td>NaN</td>\n",
       "      <td>0.000000</td>\n",
       "    </tr>\n",
       "    <tr>\n",
       "      <th>max</th>\n",
       "      <td>NaN</td>\n",
       "      <td>82.000000</td>\n",
       "      <td>1.000000</td>\n",
       "      <td>1.000000</td>\n",
       "      <td>NaN</td>\n",
       "      <td>NaN</td>\n",
       "      <td>NaN</td>\n",
       "      <td>271.740000</td>\n",
       "      <td>92.000000</td>\n",
       "      <td>NaN</td>\n",
       "      <td>1.000000</td>\n",
       "    </tr>\n",
       "  </tbody>\n",
       "</table>\n",
       "</div>"
      ],
      "text/plain": [
       "        gender          age  hypertension  heart_disease ever_married  \\\n",
       "count     4254  4254.000000   4254.000000    4254.000000         4254   \n",
       "unique       3          NaN           NaN            NaN            2   \n",
       "top     Female          NaN           NaN            NaN          Yes   \n",
       "freq      2576          NaN           NaN            NaN         3353   \n",
       "mean       NaN    50.202163      0.116831       0.064645          NaN   \n",
       "std        NaN    17.829035      0.321257       0.245927          NaN   \n",
       "min        NaN    18.000000      0.000000       0.000000          NaN   \n",
       "25%        NaN    36.000000      0.000000       0.000000          NaN   \n",
       "50%        NaN    50.500000      0.000000       0.000000          NaN   \n",
       "75%        NaN    64.000000      0.000000       0.000000          NaN   \n",
       "max        NaN    82.000000      1.000000       1.000000          NaN   \n",
       "\n",
       "       work_type Residence_type  avg_glucose_level          bmi  \\\n",
       "count       4254           4254        4254.000000  4073.000000   \n",
       "unique         4              2                NaN          NaN   \n",
       "top      Private          Urban                NaN          NaN   \n",
       "freq        2791           2169                NaN          NaN   \n",
       "mean         NaN            NaN         108.514394    30.432752   \n",
       "std          NaN            NaN          47.769400     7.235143   \n",
       "min          NaN            NaN          55.120000    11.300000   \n",
       "25%          NaN            NaN          77.482500    25.400000   \n",
       "50%          NaN            NaN          92.465000    29.200000   \n",
       "75%          NaN            NaN         116.135000    34.200000   \n",
       "max          NaN            NaN         271.740000    92.000000   \n",
       "\n",
       "       smoking_status       stroke  \n",
       "count            4254  4254.000000  \n",
       "unique              4          NaN  \n",
       "top      never smoked          NaN  \n",
       "freq             1752          NaN  \n",
       "mean              NaN     0.058063  \n",
       "std               NaN     0.233890  \n",
       "min               NaN     0.000000  \n",
       "25%               NaN     0.000000  \n",
       "50%               NaN     0.000000  \n",
       "75%               NaN     0.000000  \n",
       "max               NaN     1.000000  "
      ]
     },
     "execution_count": 6,
     "metadata": {},
     "output_type": "execute_result"
    }
   ],
   "source": [
    "adult_data.describe(include= 'all')"
   ]
  },
  {
   "cell_type": "code",
   "execution_count": 7,
   "id": "7ad63402",
   "metadata": {},
   "outputs": [
    {
     "data": {
      "text/plain": [
       "gender                 0\n",
       "age                    0\n",
       "hypertension           0\n",
       "heart_disease          0\n",
       "ever_married           0\n",
       "work_type              0\n",
       "Residence_type         0\n",
       "avg_glucose_level      0\n",
       "bmi                  181\n",
       "smoking_status         0\n",
       "stroke                 0\n",
       "dtype: int64"
      ]
     },
     "execution_count": 7,
     "metadata": {},
     "output_type": "execute_result"
    }
   ],
   "source": [
    "adult_data.isna().sum()"
   ]
  },
  {
   "cell_type": "markdown",
   "id": "26359cf3",
   "metadata": {},
   "source": [
    "Quick summary of stats show: 11.7% have hypertension, 6.46% have heart disease, and the response variable is only positive for 5.81% of the data. The average glucose level has a positive skew causing the mean to be larger than our median.\n",
    "\n",
    "Our only numeric column with missing values is BMI. Approximately 4.25% of the cases are missing BMI values. Additionally we have 1 'Other' under gender and 862 'Unknown' under smoking_status. To simplify the model we will assume gender is categorizing biological sex and will assign the \"Other\" to Female which is the most common gender in our data set. I'll treat the 'Unknown' as a valid category of smoking_status. Under work_type we have 5 'Never_worked' which comprises of 0.12% of the total cases so they will be changed to Private. These were more prevalent when children were still being considered in our model.   \n",
    "\n",
    "We will be utilizing cross-validation, and imputation of BMI will be applied for each fold to prevent data leakage. Data leakage is assumed to be negligible for the Gender and Work Type variable changes since they constitute such a small number of cases changed. \n"
   ]
  },
  {
   "cell_type": "code",
   "execution_count": 8,
   "id": "80c5adca",
   "metadata": {},
   "outputs": [
    {
     "name": "stderr",
     "output_type": "stream",
     "text": [
      "C:\\Users\\spidy\\anaconda3\\lib\\site-packages\\pandas\\core\\indexing.py:1817: SettingWithCopyWarning: \n",
      "A value is trying to be set on a copy of a slice from a DataFrame.\n",
      "Try using .loc[row_indexer,col_indexer] = value instead\n",
      "\n",
      "See the caveats in the documentation: https://pandas.pydata.org/pandas-docs/stable/user_guide/indexing.html#returning-a-view-versus-a-copy\n",
      "  self._setitem_single_column(loc, value, pi)\n"
     ]
    }
   ],
   "source": [
    "adult_data.loc[adult_data.gender == \"Other\",'gender'] = \"Female\"\n",
    "adult_data.loc[adult_data.work_type == \"Never_worked\",'work_type'] = \"Private\""
   ]
  },
  {
   "cell_type": "markdown",
   "id": "ccf6628b",
   "metadata": {},
   "source": [
    "# Visualizing the data\n",
    "We will break our data into groups we care to analyze further with graphs"
   ]
  },
  {
   "cell_type": "code",
   "execution_count": 9,
   "id": "8904225e",
   "metadata": {},
   "outputs": [],
   "source": [
    "ht_data = adult_data.loc[adult_data.hypertension == 1,:].groupby('gender')['stroke'].value_counts(normalize = True)\n",
    "ht_data = ht_data.mul(100).rename('Percent').reset_index()\n",
    "ht_data.rename(columns={\"level_1\": \"stroke\"},inplace=True)\n",
    "\n",
    "no_ht_data = adult_data.loc[adult_data.hypertension == 0,:].groupby('gender')['stroke'].value_counts(normalize = True)\n",
    "no_ht_data = no_ht_data.mul(100).rename('Percent').reset_index()\n",
    "no_ht_data.rename(columns={\"level_1\": \"stroke\"},inplace=True)\n",
    "\n",
    "hd_data = adult_data.loc[adult_data.heart_disease == 1,:].groupby('gender')['stroke'].value_counts(normalize = True)\n",
    "hd_data = hd_data.mul(100).rename('Percent').reset_index()\n",
    "hd_data.rename(columns={\"level_1\": \"stroke\"},inplace=True)\n",
    "\n",
    "no_hd_data = adult_data.loc[adult_data.heart_disease == 0,:].groupby('gender')['stroke'].value_counts(normalize = True)\n",
    "no_hd_data = no_hd_data.mul(100).rename('Percent').reset_index()\n",
    "no_hd_data.rename(columns={\"level_1\": \"stroke\"},inplace=True)"
   ]
  },
  {
   "cell_type": "markdown",
   "id": "2408a580",
   "metadata": {},
   "source": [
    "The first set of graphs will investigate how big of an influence hypertension is on having a stroke. Because only 11.7% of the cases have hypertension we will graph these separately. We also separate genders to see if there is a major difference. This same exercise will be performed on heart disease."
   ]
  },
  {
   "cell_type": "code",
   "execution_count": 10,
   "id": "701e9047",
   "metadata": {},
   "outputs": [
    {
     "data": {
      "image/png": "[encoded data removed]",
      "text/plain": [
       "<Figure size 1080x1080 with 4 Axes>"
      ]
     },
     "metadata": {},
     "output_type": "display_data"
    }
   ],
   "source": [
    "sns.set_theme(style=\"whitegrid\")\n",
    "palette = {\n",
    "    'Male': 'tab:blue',\n",
    "    'Female': 'tab:pink'}\n",
    "fig, axes = plt.subplots(2, 2, figsize = (15, 15), sharey = True)\n",
    "\n",
    "# Heart Disease Plot\n",
    "hd_plot = sns.barplot(ax = axes[0,0], x = 'stroke', y = 'Percent',\n",
    "                      hue = 'gender', palette = palette, data = hd_data)\n",
    "hd_plot.axes.set_ylim(0,100)\n",
    "hd_plot.set_title(\"Heart Disease\")\n",
    "\n",
    "for p in hd_plot.axes.patches:\n",
    "    txt = str(p.get_height().round(1)) + '%'\n",
    "    txt_x = p.get_x()\n",
    "    txt_y = p.get_height() + 1\n",
    "    hd_plot.axes.text(txt_x,txt_y,txt)\n",
    "\n",
    "# No Heart Disease Plot\n",
    "no_hd_plot = sns.barplot(ax = axes[0,1], x = 'stroke', y = 'Percent',\n",
    "                         hue = 'gender', palette = palette, data = no_hd_data)\n",
    "no_hd_plot.axes.set_ylim(0,100)\n",
    "no_hd_plot.set_title(\"No Heart Disease\")\n",
    "\n",
    "for p in no_hd_plot.axes.patches:\n",
    "    txt = str(p.get_height().round(1)) + '%'\n",
    "    txt_x = p.get_x()\n",
    "    txt_y = p.get_height() + 1\n",
    "    no_hd_plot.axes.text(txt_x,txt_y,txt)\n",
    "\n",
    "    \n",
    "# Hypertension Plot\n",
    "ht_plot = sns.barplot(ax = axes[1,0], x = 'stroke', y = 'Percent',\n",
    "                      hue = 'gender', palette = palette, data = ht_data)\n",
    "ht_plot.axes.set_ylim(0,100)\n",
    "ht_plot.set_title(\"Hypertension\")\n",
    "\n",
    "for p in ht_plot.axes.patches:\n",
    "    txt = str(p.get_height().round(1)) + '%'\n",
    "    txt_x = p.get_x()\n",
    "    txt_y = p.get_height() + 1\n",
    "    ht_plot.axes.text(txt_x,txt_y,txt)\n",
    "\n",
    "# No Hypertension Plot\n",
    "no_ht_plot = sns.barplot(ax = axes[1,1], x = 'stroke', y = 'Percent',\n",
    "                         hue = 'gender', palette = palette, data = no_ht_data)\n",
    "no_ht_plot.axes.set_ylim(0,100)\n",
    "no_ht_plot.set_title(\"No Hypertension\")\n",
    "\n",
    "for p in no_ht_plot.axes.patches:\n",
    "    txt = str(p.get_height().round(1)) + '%'\n",
    "    txt_x = p.get_x()\n",
    "    txt_y = p.get_height() + 1\n",
    "    no_ht_plot.axes.text(txt_x,txt_y,txt)\n",
    "    "
   ]
  },
  {
   "cell_type": "code",
   "execution_count": 11,
   "id": "334cdabf",
   "metadata": {},
   "outputs": [
    {
     "data": {
      "text/plain": [
       "Text(0, 0.5, 'Log Scaled BMI')"
      ]
     },
     "execution_count": 11,
     "metadata": {},
     "output_type": "execute_result"
    },
    {
     "data": {
      "image/png": "[encoded data removed]",
      "text/plain": [
       "<Figure size 360x1080 with 3 Axes>"
      ]
     },
     "metadata": {},
     "output_type": "display_data"
    }
   ],
   "source": [
    "fig, axes = plt.subplots(3, 1, figsize = (5, 15))\n",
    "\n",
    "# Age Boxplot\n",
    "age_boxplot = sns.boxplot(ax = axes[0], x = 'stroke', y = 'age',\n",
    "                          hue = 'gender', data= adult_data ,\n",
    "                          palette= palette, width = 0.6)\n",
    "age_boxplot.legend(bbox_to_anchor=(1.05, 1), loc=2, borderaxespad=0.)\n",
    "age_boxplot.axes.set_title(\"Age vs Stroke\")\n",
    "age_boxplot.axes.set_ylabel(\"Age\")\n",
    "\n",
    "# Scaled AGL Boxplot\n",
    "agl_boxplot = sns.boxplot(ax = axes[1], x = 'stroke', y = np.log(adult_data.avg_glucose_level),\n",
    "                          hue = 'gender', data= adult_data ,\n",
    "                          palette= palette, width = 0.6)\n",
    "agl_boxplot.legend(bbox_to_anchor=(1.05, 1), loc=2, borderaxespad=0.)\n",
    "agl_boxplot.axes.set_title(\"Scaled Glucose Level vs Stroke\")\n",
    "agl_boxplot.axes.set_ylabel(\"Log Scaled AGL\")\n",
    "\n",
    "# Scaled BMI Boxplot\n",
    "bmi_boxplot = sns.boxplot(ax = axes[2], x = 'stroke', y = np.log(adult_data.bmi),\n",
    "                          hue = 'gender', data= adult_data ,\n",
    "                          palette= palette, width = 0.6)\n",
    "bmi_boxplot.legend(bbox_to_anchor=(1.05, 1), loc=2, borderaxespad=0.)\n",
    "bmi_boxplot.axes.set_title(\"Scaled BMI vs Stroke\")\n",
    "bmi_boxplot.axes.set_ylabel(\"Log Scaled BMI\")"
   ]
  },
  {
   "cell_type": "markdown",
   "id": "db547a5a",
   "metadata": {},
   "source": [
    "Next we will look at whether we see a difference in the categorical values and their average rate of stroke."
   ]
  },
  {
   "cell_type": "code",
   "execution_count": 12,
   "id": "37ce0c09",
   "metadata": {},
   "outputs": [],
   "source": [
    "pie_res_type = adult_data.groupby('Residence_type').mean()\n",
    "pie_res_type['stroke_proportion'] = 100*round(pie_res_type['stroke'] / pie_res_type['stroke'].sum(),3)\n",
    "\n",
    "pie_work_type = adult_data.groupby('work_type').mean()\n",
    "pie_work_type['stroke_proportion'] = 100*round(pie_work_type['stroke'] / pie_work_type['stroke'].sum(),3)\n",
    "\n",
    "pie_smoke_type = adult_data.groupby('smoking_status').mean()\n",
    "pie_smoke_type['stroke_proportion'] = 100*round(pie_smoke_type['stroke'] / pie_smoke_type['stroke'].sum(),3)\n",
    "\n",
    "pie_married_type = adult_data.groupby('ever_married').mean()\n",
    "pie_married_type['stroke_proportion'] = 100*round(pie_married_type['stroke'] / pie_married_type['stroke'].sum(),3)"
   ]
  },
  {
   "cell_type": "code",
   "execution_count": 13,
   "id": "8dc6e926",
   "metadata": {},
   "outputs": [
    {
     "data": {
      "text/plain": [
       "Text(0, 0.5, '')"
      ]
     },
     "execution_count": 13,
     "metadata": {},
     "output_type": "execute_result"
    },
    {
     "data": {
      "image/png": "[encoded data removed]",
      "text/plain": [
       "<Figure size 576x576 with 4 Axes>"
      ]
     },
     "metadata": {},
     "output_type": "display_data"
    }
   ],
   "source": [
    "fig, axes = plt.subplots(2, 2, figsize = (8, 8))\n",
    "\n",
    "res_pie = pie_res_type.plot(kind = 'pie', y = 'stroke_proportion',\n",
    "                  ax = axes[0,0], autopct = '%.1f%%', legend = False)\n",
    "res_pie.legend(bbox_to_anchor=(.8, .9))\n",
    "res_pie.set_ylabel(\"\")\n",
    "\n",
    "work_pie = pie_work_type.plot(kind = 'pie', y = 'stroke_proportion',\n",
    "                  ax = axes[0,1], autopct = '%.1f%%')\n",
    "work_pie.legend(bbox_to_anchor=(.8, .9))\n",
    "work_pie.set_ylabel(\"\")\n",
    "\n",
    "smoke_pie = pie_smoke_type.plot(kind = 'pie', y = 'stroke_proportion',\n",
    "                  ax = axes[1,0], autopct = '%.1f%%')\n",
    "smoke_pie.legend(bbox_to_anchor=(1, .1))\n",
    "smoke_pie.set_ylabel(\"\")\n",
    "\n",
    "married_pie = pie_married_type.plot(kind = 'pie', y = 'stroke_proportion',\n",
    "                  ax = axes[1,1], autopct = '%.1f%%')\n",
    "married_pie.legend(bbox_to_anchor=(1, .1))\n",
    "married_pie.set_ylabel(\"\")"
   ]
  },
  {
   "cell_type": "markdown",
   "id": "ef885041",
   "metadata": {},
   "source": [
    "# Model Pre-Processing\n",
    "\n",
    "As this point we have all the visual inference about our data and how it relates to the response variable. Although we will tune our models individually, to write efficient code we will automate our data pre-processing so we can train and test our models with ease. \n",
    "\n",
    "I chose to impute our missing BMI values using a random forest imputation method. This method performs very well when the variable being imputed is normally distributed. All the binary variables will be converted to categorical. Imputation will be used against all the null values in the dataset later."
   ]
  },
  {
   "cell_type": "code",
   "execution_count": 14,
   "id": "2cd565c1",
   "metadata": {},
   "outputs": [
    {
     "name": "stderr",
     "output_type": "stream",
     "text": [
      "C:\\Users\\spidy\\anaconda3\\lib\\site-packages\\pandas\\core\\indexing.py:1884: SettingWithCopyWarning: \n",
      "A value is trying to be set on a copy of a slice from a DataFrame.\n",
      "Try using .loc[row_indexer,col_indexer] = value instead\n",
      "\n",
      "See the caveats in the documentation: https://pandas.pydata.org/pandas-docs/stable/user_guide/indexing.html#returning-a-view-versus-a-copy\n",
      "  self._setitem_single_column(loc, val, pi)\n"
     ]
    },
    {
     "data": {
      "image/png": "[encoded data removed]",
      "text/plain": [
       "<Figure size 432x288 with 1 Axes>"
      ]
     },
     "metadata": {},
     "output_type": "display_data"
    }
   ],
   "source": [
    "# Change object and binary to categorical types\n",
    "obj_cat = ['gender','hypertension','heart_disease','ever_married','work_type','Residence_type','smoking_status']\n",
    "adult_data.loc[:,obj_cat] = adult_data.loc[:,obj_cat].astype('category')\n",
    "\n",
    "# Create kernel. \n",
    "mice_result = mf.ImputationKernel(\n",
    "  adult_data,\n",
    "  datasets=5,\n",
    "  save_all_iterations=True,\n",
    "  random_state=575\n",
    ")\n",
    "\n",
    "# Run the MICE algorithm for 3 iterations on each of the datasets\n",
    "mice_result.mice(3)\n",
    "mice_result.plot_imputed_distributions()\n",
    "complete_data = mice_result.complete_data(0)"
   ]
  },
  {
   "cell_type": "markdown",
   "id": "019599f2",
   "metadata": {},
   "source": [
    "I'll now create dummy variables to represent the categorical data to preform a smote procedure later in our cross validation. Additionally the data will be split 85/15 used stratified indexing to have a test set to determine final model potential. In the R implementation of the Logistic Model, some category combinations were performed after seing partial levels dropped. To avoid dropping partial levels, the same combinations will be done here"
   ]
  },
  {
   "cell_type": "code",
   "execution_count": 15,
   "id": "9b7047b6",
   "metadata": {},
   "outputs": [],
   "source": [
    "complete_data['work_type'] = np.where((complete_data['work_type'] == \"Govt_job\") | (complete_data['work_type'] == \"Private\"),\n",
    "         \"GP\", \"SE\")\n",
    "complete_data['smoking_status'] = np.where((complete_data['smoking_status'] == \"formerly smoked\") | (complete_data['smoking_status'] == \"smokes\"),\n",
    "         \"smoked\", complete_data['smoking_status'])\n",
    "complete_data['smoking_status'] = np.where(complete_data['smoking_status'] == \"never smoked\",\n",
    "                                           \"never_smoked\", complete_data['smoking_status'])\n",
    "\n",
    "dum_col = [\"gender\",\"hypertension\", \"heart_disease\",\n",
    "           \"ever_married\", \"work_type\", \"Residence_type\",\n",
    "           \"smoking_status\"]\n",
    "dummy_data = pd.get_dummies(complete_data, columns = dum_col, drop_first = True)\n",
    "\n",
    "X_train, X_test, y_train, y_test = train_test_split(dummy_data.drop('stroke',axis = 1),\n",
    "                                                    dummy_data['stroke'],\n",
    "                                                    test_size = 0.15, stratify = dummy_data['stroke'], random_state = 575)"
   ]
  },
  {
   "cell_type": "code",
   "execution_count": 16,
   "id": "a3cbd403",
   "metadata": {},
   "outputs": [],
   "source": [
    "# This data will  be used to tune the hyperparameters of the Random Forest Classifier and the Gradient Boosted Classifier\n",
    "X_resampled_hyp, y_resampled_hyp = SMOTE(random_state= 575).fit_resample(X_train, y_train)"
   ]
  },
  {
   "cell_type": "code",
   "execution_count": 17,
   "id": "dd398df8",
   "metadata": {},
   "outputs": [],
   "source": [
    "# This function will be used to determine which fold has the best F-score when threshold is optimized. \n",
    "# A seperate version was written because the logistic model was not from sklearn so the model has different arguments\n",
    "def Fb_thresh(x_test,y_test,model, Beta = 2):\n",
    "    prob_true = model.predict_proba(x_test)[:,1]\n",
    "    observed = y_test\n",
    "    \n",
    "    temp_df = pd.DataFrame(columns=['prob','labeled'],\n",
    "                           index = range(len(prob_true)))\n",
    "    temp_df['prob'] = prob_true\n",
    "    \n",
    "    thrs = np.linspace(0.05,0.95,  num = 100)\n",
    "    thrs_f_table = pd.DataFrame(columns=['threshold', 'F-Beta_Score'],\n",
    "                                index = range(len(thrs)))\n",
    "    \n",
    "    \n",
    "    for i in range(len(thrs)):\n",
    "        temp_df['labeled'] = temp_df['prob'].apply(lambda x : 1 if x > thrs[i] else 0)\n",
    "        thrs_f_table['F-Beta_Score'][i] =  fbeta_score(observed, temp_df['labeled'], beta = Beta)\n",
    "        thrs_f_table['threshold'][i] = thrs[i]\n",
    "    \n",
    "    thrs_f_table['F-Beta_Score'].fillna(0,inplace= True)\n",
    "    max_thres = thrs_f_table[thrs_f_table['F-Beta_Score'] == thrs_f_table['F-Beta_Score'].max()]\n",
    "    max_thres.reset_index(drop=True, inplace=True)\n",
    "    return(max_thres)\n",
    "\n",
    "def Fb_thresh_log(x_test,y_test,model, Beta = 2):\n",
    "    results = model.fit()\n",
    "    prob_true = model.predict(params = results.params, exog =  x_test)\n",
    "    observed = y_test\n",
    "    \n",
    "    temp_df = pd.DataFrame(columns=['prob','labeled'],\n",
    "                           index = range(len(prob_true)))\n",
    "    temp_df['prob'] = prob_true\n",
    "    \n",
    "    thrs = np.linspace(0.05,0.95,  num = 100)\n",
    "    thrs_f_table = pd.DataFrame(columns=['threshold', 'F-Beta_Score'],\n",
    "                                index = range(len(thrs)))\n",
    "    \n",
    "    \n",
    "    for i in range(len(thrs)):\n",
    "        temp_df['labeled'] = temp_df['prob'].apply(lambda x : 1 if x > thrs[i] else 0)\n",
    "        thrs_f_table['F-Beta_Score'][i] =  fbeta_score(observed, temp_df['labeled'], beta = Beta)\n",
    "        thrs_f_table['threshold'][i] = thrs[i]\n",
    "    \n",
    "    thrs_f_table['F-Beta_Score'].fillna(0,inplace= True)\n",
    "    max_thres = thrs_f_table[thrs_f_table['F-Beta_Score'] == thrs_f_table['F-Beta_Score'].max()]\n",
    "    max_thres.reset_index(drop=True, inplace=True)\n",
    "    return(max_thres)\n"
   ]
  },
  {
   "cell_type": "markdown",
   "id": "091ba6ce",
   "metadata": {},
   "source": [
    "## Model 1: Logistic Regression\n",
    "Logistic Regression. An step AIC optimization algorithm was used in the R script to determine the best parameters to use "
   ]
  },
  {
   "cell_type": "code",
   "execution_count": 20,
   "id": "2f74aee1",
   "metadata": {},
   "outputs": [
    {
     "data": {
      "text/html": [
       "<div>\n",
       "<style scoped>\n",
       "    .dataframe tbody tr th:only-of-type {\n",
       "        vertical-align: middle;\n",
       "    }\n",
       "\n",
       "    .dataframe tbody tr th {\n",
       "        vertical-align: top;\n",
       "    }\n",
       "\n",
       "    .dataframe thead th {\n",
       "        text-align: right;\n",
       "    }\n",
       "</style>\n",
       "<table border=\"1\" class=\"dataframe\">\n",
       "  <thead>\n",
       "    <tr style=\"text-align: right;\">\n",
       "      <th></th>\n",
       "      <th>Fold</th>\n",
       "      <th>Threshold</th>\n",
       "      <th>F-2_Score</th>\n",
       "    </tr>\n",
       "  </thead>\n",
       "  <tbody>\n",
       "    <tr>\n",
       "      <th>0</th>\n",
       "      <td>1</td>\n",
       "      <td>0.3682</td>\n",
       "      <td>0.3846</td>\n",
       "    </tr>\n",
       "    <tr>\n",
       "      <th>1</th>\n",
       "      <td>2</td>\n",
       "      <td>0.3227</td>\n",
       "      <td>0.3488</td>\n",
       "    </tr>\n",
       "    <tr>\n",
       "      <th>2</th>\n",
       "      <td>3</td>\n",
       "      <td>0.2045</td>\n",
       "      <td>0.3617</td>\n",
       "    </tr>\n",
       "    <tr>\n",
       "      <th>3</th>\n",
       "      <td>4</td>\n",
       "      <td>0.3045</td>\n",
       "      <td>0.3415</td>\n",
       "    </tr>\n",
       "    <tr>\n",
       "      <th>4</th>\n",
       "      <td>5</td>\n",
       "      <td>0.2227</td>\n",
       "      <td>0.4032</td>\n",
       "    </tr>\n",
       "    <tr>\n",
       "      <th>5</th>\n",
       "      <td>6</td>\n",
       "      <td>0.3318</td>\n",
       "      <td>0.3483</td>\n",
       "    </tr>\n",
       "    <tr>\n",
       "      <th>6</th>\n",
       "      <td>7</td>\n",
       "      <td>0.5864</td>\n",
       "      <td>0.4027</td>\n",
       "    </tr>\n",
       "    <tr>\n",
       "      <th>7</th>\n",
       "      <td>8</td>\n",
       "      <td>0.2409</td>\n",
       "      <td>0.3097</td>\n",
       "    </tr>\n",
       "    <tr>\n",
       "      <th>8</th>\n",
       "      <td>9</td>\n",
       "      <td>0.5864</td>\n",
       "      <td>0.4717</td>\n",
       "    </tr>\n",
       "    <tr>\n",
       "      <th>9</th>\n",
       "      <td>10</td>\n",
       "      <td>0.2864</td>\n",
       "      <td>0.3556</td>\n",
       "    </tr>\n",
       "  </tbody>\n",
       "</table>\n",
       "</div>"
      ],
      "text/plain": [
       "  Fold Threshold F-2_Score\n",
       "0    1    0.3682    0.3846\n",
       "1    2    0.3227    0.3488\n",
       "2    3    0.2045    0.3617\n",
       "3    4    0.3045    0.3415\n",
       "4    5    0.2227    0.4032\n",
       "5    6    0.3318    0.3483\n",
       "6    7    0.5864    0.4027\n",
       "7    8    0.2409    0.3097\n",
       "8    9    0.5864    0.4717\n",
       "9   10    0.2864    0.3556"
      ]
     },
     "execution_count": 20,
     "metadata": {},
     "output_type": "execute_result"
    }
   ],
   "source": [
    "kf = StratifiedKFold(n_splits = 10, shuffle= True, random_state = 575)\n",
    "log_col = ['intercept','age', 'avg_glucose_level', 'hypertension_1',\n",
    "        'heart_disease_1', 'work_type_SE', 'Residence_type_Urban',\n",
    "        'smoking_status_never_smoked', 'smoking_status_smoked']\n",
    "log_x_train = X_train.copy()\n",
    "log_x_train['intercept'] = 1\n",
    "log_x_train.reset_index(drop=True, inplace=True)\n",
    "fold = 1\n",
    "\n",
    "Log_CV_Results = pd.DataFrame(columns=['Fold', 'Threshold', 'F-2_Score'], index = range(10))\n",
    "\n",
    "for train_index, test_index in kf.split(log_x_train,y_train):\n",
    "    X_train_cv = log_x_train.iloc[train_index]\n",
    "    y_train_cv = y_train.iloc[train_index]\n",
    "    X_test_cv = log_x_train.iloc[test_index]\n",
    "    y_test_cv = y_train.iloc[test_index]\n",
    "    X_resampled, y_resampled = SMOTE(random_state= 575).fit_resample(X_train_cv, y_train_cv)\n",
    "    \n",
    "    logit_model = sm.GLM(y_resampled, X_resampled[log_col], family=sm.families.Binomial())\n",
    "    temp_df = Fb_thresh_log(X_test_cv[log_col],y_test_cv, logit_model, Beta = 2)\n",
    "    \n",
    "    \n",
    "    Log_CV_Results['Fold'][fold-1] = fold\n",
    "    Log_CV_Results['Threshold'][fold-1] = round(temp_df['threshold'][0],4)\n",
    "    Log_CV_Results['F-2_Score'][fold-1] = round(temp_df['F-Beta_Score'][0],4)\n",
    "    fold += 1\n",
    "    \n",
    "Log_CV_Results"
   ]
  },
  {
   "cell_type": "markdown",
   "id": "db8ae59c",
   "metadata": {},
   "source": [
    "## Model 2: Random Forest Classifier.  \n",
    "\n"
   ]
  },
  {
   "cell_type": "code",
   "execution_count": 21,
   "id": "14ab8c42",
   "metadata": {},
   "outputs": [
    {
     "name": "stdout",
     "output_type": "stream",
     "text": [
      "Fitting 3 folds for each of 100 candidates, totalling 300 fits\n"
     ]
    },
    {
     "data": {
      "text/plain": [
       "{'n_estimators': 1400,\n",
       " 'min_samples_split': 2,\n",
       " 'min_samples_leaf': 1,\n",
       " 'max_features': 'sqrt',\n",
       " 'max_depth': 30,\n",
       " 'bootstrap': False}"
      ]
     },
     "execution_count": 21,
     "metadata": {},
     "output_type": "execute_result"
    }
   ],
   "source": [
    "rf = RandomForestClassifier(random_state=575)\n",
    "# Number of trees in random forest\n",
    "n_estimators = [int(x) for x in np.linspace(start = 200, stop = 2000, num = 10)]\n",
    "# Number of features to consider at every split\n",
    "max_features = ['auto', 'sqrt']\n",
    "# Maximum number of levels in tree\n",
    "max_depth = [int(x) for x in np.linspace(10, 110, num = 11)]\n",
    "max_depth.append(None)\n",
    "# Minimum number of samples required to split a node\n",
    "min_samples_split = [2, 5, 10]\n",
    "# Minimum number of samples required at each leaf node\n",
    "min_samples_leaf = [1, 2, 4]\n",
    "# Method of selecting samples for training each tree\n",
    "bootstrap = [True, False]# Create the random grid\n",
    "random_grid = {'n_estimators': n_estimators,\n",
    "               'max_features': max_features,\n",
    "               'max_depth': max_depth,\n",
    "               'min_samples_split': min_samples_split,\n",
    "               'min_samples_leaf': min_samples_leaf,\n",
    "               'bootstrap': bootstrap}\n",
    "rf_random = RandomizedSearchCV(estimator = rf, param_distributions = random_grid,\n",
    "                               n_iter = 100, cv = 3, verbose=2,\n",
    "                               random_state=575, n_jobs = -1,scoring='f1')# Fit the random search model\n",
    "\n",
    "rf_random.fit(X_train,y_train)\n",
    "rf_random.best_params_"
   ]
  },
  {
   "cell_type": "code",
   "execution_count": 22,
   "id": "c4132739",
   "metadata": {},
   "outputs": [
    {
     "data": {
      "text/html": [
       "<div>\n",
       "<style scoped>\n",
       "    .dataframe tbody tr th:only-of-type {\n",
       "        vertical-align: middle;\n",
       "    }\n",
       "\n",
       "    .dataframe tbody tr th {\n",
       "        vertical-align: top;\n",
       "    }\n",
       "\n",
       "    .dataframe thead th {\n",
       "        text-align: right;\n",
       "    }\n",
       "</style>\n",
       "<table border=\"1\" class=\"dataframe\">\n",
       "  <thead>\n",
       "    <tr style=\"text-align: right;\">\n",
       "      <th></th>\n",
       "      <th>Fold</th>\n",
       "      <th>Threshold</th>\n",
       "      <th>F-2_Score</th>\n",
       "    </tr>\n",
       "  </thead>\n",
       "  <tbody>\n",
       "    <tr>\n",
       "      <th>0</th>\n",
       "      <td>1</td>\n",
       "      <td>0.1227</td>\n",
       "      <td>0.4124</td>\n",
       "    </tr>\n",
       "    <tr>\n",
       "      <th>1</th>\n",
       "      <td>2</td>\n",
       "      <td>0.1318</td>\n",
       "      <td>0.3495</td>\n",
       "    </tr>\n",
       "    <tr>\n",
       "      <th>2</th>\n",
       "      <td>3</td>\n",
       "      <td>0.2591</td>\n",
       "      <td>0.3957</td>\n",
       "    </tr>\n",
       "    <tr>\n",
       "      <th>3</th>\n",
       "      <td>4</td>\n",
       "      <td>0.0682</td>\n",
       "      <td>0.2991</td>\n",
       "    </tr>\n",
       "    <tr>\n",
       "      <th>4</th>\n",
       "      <td>5</td>\n",
       "      <td>0.1864</td>\n",
       "      <td>0.4023</td>\n",
       "    </tr>\n",
       "    <tr>\n",
       "      <th>5</th>\n",
       "      <td>6</td>\n",
       "      <td>0.05</td>\n",
       "      <td>0.3782</td>\n",
       "    </tr>\n",
       "    <tr>\n",
       "      <th>6</th>\n",
       "      <td>7</td>\n",
       "      <td>0.3227</td>\n",
       "      <td>0.4104</td>\n",
       "    </tr>\n",
       "    <tr>\n",
       "      <th>7</th>\n",
       "      <td>8</td>\n",
       "      <td>0.1227</td>\n",
       "      <td>0.3947</td>\n",
       "    </tr>\n",
       "    <tr>\n",
       "      <th>8</th>\n",
       "      <td>9</td>\n",
       "      <td>0.3864</td>\n",
       "      <td>0.4365</td>\n",
       "    </tr>\n",
       "    <tr>\n",
       "      <th>9</th>\n",
       "      <td>10</td>\n",
       "      <td>0.0955</td>\n",
       "      <td>0.3829</td>\n",
       "    </tr>\n",
       "  </tbody>\n",
       "</table>\n",
       "</div>"
      ],
      "text/plain": [
       "  Fold Threshold F-2_Score\n",
       "0    1    0.1227    0.4124\n",
       "1    2    0.1318    0.3495\n",
       "2    3    0.2591    0.3957\n",
       "3    4    0.0682    0.2991\n",
       "4    5    0.1864    0.4023\n",
       "5    6      0.05    0.3782\n",
       "6    7    0.3227    0.4104\n",
       "7    8    0.1227    0.3947\n",
       "8    9    0.3864    0.4365\n",
       "9   10    0.0955    0.3829"
      ]
     },
     "execution_count": 22,
     "metadata": {},
     "output_type": "execute_result"
    }
   ],
   "source": [
    "RF_CV_Results = pd.DataFrame(columns=['Fold', 'Threshold', 'F-2_Score'], index = range(10))\n",
    "fold = 1\n",
    "for train_index, test_index in kf.split(X_train,y_train):\n",
    "    X_train_cv = X_train.iloc[train_index]\n",
    "    y_train_cv = y_train.iloc[train_index]\n",
    "    X_test_cv = X_train.iloc[test_index]\n",
    "    y_test_cv = y_train.iloc[test_index]\n",
    "    X_resampled, y_resampled = SMOTE(random_state= 575).fit_resample(X_train_cv, y_train_cv)\n",
    "    \n",
    "    cv_rf = rf_random.best_estimator_.fit(X_resampled,y_resampled)\n",
    "    \n",
    "    temp_df = Fb_thresh(X_test_cv,y_test_cv, cv_rf, Beta = 2)\n",
    "    \n",
    "    RF_CV_Results['Fold'][fold-1] = fold\n",
    "    RF_CV_Results['Threshold'][fold-1] = round(temp_df['threshold'][0],4)\n",
    "    RF_CV_Results['F-2_Score'][fold-1] = round(temp_df['F-Beta_Score'][0],4)\n",
    "    fold += 1\n",
    "    \n",
    "RF_CV_Results"
   ]
  },
  {
   "cell_type": "markdown",
   "id": "0c7abc72",
   "metadata": {},
   "source": [
    "## Model 3: Gradient Boosting\n"
   ]
  },
  {
   "cell_type": "code",
   "execution_count": 23,
   "id": "d4f69566",
   "metadata": {},
   "outputs": [
    {
     "name": "stdout",
     "output_type": "stream",
     "text": [
      "Fitting 3 folds for each of 100 candidates, totalling 300 fits\n"
     ]
    },
    {
     "data": {
      "text/plain": [
       "{'n_estimators': 400,\n",
       " 'min_samples_split': 2,\n",
       " 'min_samples_leaf': 1,\n",
       " 'max_features': 'auto',\n",
       " 'max_depth': 30,\n",
       " 'learning_rate': 0.1}"
      ]
     },
     "execution_count": 23,
     "metadata": {},
     "output_type": "execute_result"
    }
   ],
   "source": [
    "gb = GradientBoostingClassifier(random_state=575)\n",
    "# Number of trees in random forest\n",
    "n_estimators = [int(x) for x in np.linspace(start = 100, stop = 1500, num = 15)]\n",
    "# Number of features to consider at every split\n",
    "max_features = ['auto', 'log2']\n",
    "# Maximum number of levels in tree\n",
    "max_depth = [int(x) for x in np.linspace(3, 30, num = 10)]\n",
    "max_depth.append(None)\n",
    "# Minimum number of samples required to split a node\n",
    "min_samples_split = [2, 5, 10]\n",
    "# Minimum number of samples required at each leaf node\n",
    "min_samples_leaf = [1, 2, 4]\n",
    "# Learning rate \n",
    "learning_rate = [0.1, 0.3, 0.5, 0.7]\n",
    "\n",
    "random_grid = {'n_estimators': n_estimators,\n",
    "               'max_features': max_features,\n",
    "               'max_depth': max_depth,\n",
    "               'min_samples_split': min_samples_split,\n",
    "               'min_samples_leaf': min_samples_leaf,\n",
    "               'learning_rate': learning_rate}\n",
    "gb_random = RandomizedSearchCV(estimator = gb, param_distributions = random_grid,\n",
    "                               n_iter = 100, cv = 3, verbose=2,\n",
    "                               random_state=42, n_jobs = -1,scoring='f1')# Fit the random search model\n",
    "\n",
    "gb_random.fit(X_train,y_train)\n",
    "gb_random.best_params_"
   ]
  },
  {
   "cell_type": "code",
   "execution_count": 24,
   "id": "c2fe6e2c",
   "metadata": {},
   "outputs": [
    {
     "data": {
      "text/html": [
       "<div>\n",
       "<style scoped>\n",
       "    .dataframe tbody tr th:only-of-type {\n",
       "        vertical-align: middle;\n",
       "    }\n",
       "\n",
       "    .dataframe tbody tr th {\n",
       "        vertical-align: top;\n",
       "    }\n",
       "\n",
       "    .dataframe thead th {\n",
       "        text-align: right;\n",
       "    }\n",
       "</style>\n",
       "<table border=\"1\" class=\"dataframe\">\n",
       "  <thead>\n",
       "    <tr style=\"text-align: right;\">\n",
       "      <th></th>\n",
       "      <th>Fold</th>\n",
       "      <th>Threshold</th>\n",
       "      <th>F-2_Score</th>\n",
       "    </tr>\n",
       "  </thead>\n",
       "  <tbody>\n",
       "    <tr>\n",
       "      <th>0</th>\n",
       "      <td>1</td>\n",
       "      <td>0.8864</td>\n",
       "      <td>0.3279</td>\n",
       "    </tr>\n",
       "    <tr>\n",
       "      <th>1</th>\n",
       "      <td>2</td>\n",
       "      <td>0.05</td>\n",
       "      <td>0.04</td>\n",
       "    </tr>\n",
       "    <tr>\n",
       "      <th>2</th>\n",
       "      <td>3</td>\n",
       "      <td>0.9318</td>\n",
       "      <td>0.3419</td>\n",
       "    </tr>\n",
       "    <tr>\n",
       "      <th>3</th>\n",
       "      <td>4</td>\n",
       "      <td>0.5136</td>\n",
       "      <td>0.1172</td>\n",
       "    </tr>\n",
       "    <tr>\n",
       "      <th>4</th>\n",
       "      <td>5</td>\n",
       "      <td>0.4318</td>\n",
       "      <td>0.121</td>\n",
       "    </tr>\n",
       "    <tr>\n",
       "      <th>5</th>\n",
       "      <td>6</td>\n",
       "      <td>0.35</td>\n",
       "      <td>0.2212</td>\n",
       "    </tr>\n",
       "    <tr>\n",
       "      <th>6</th>\n",
       "      <td>7</td>\n",
       "      <td>0.8682</td>\n",
       "      <td>0.2941</td>\n",
       "    </tr>\n",
       "    <tr>\n",
       "      <th>7</th>\n",
       "      <td>8</td>\n",
       "      <td>0.8591</td>\n",
       "      <td>0.1653</td>\n",
       "    </tr>\n",
       "    <tr>\n",
       "      <th>8</th>\n",
       "      <td>9</td>\n",
       "      <td>0.05</td>\n",
       "      <td>0.4104</td>\n",
       "    </tr>\n",
       "    <tr>\n",
       "      <th>9</th>\n",
       "      <td>10</td>\n",
       "      <td>0.1045</td>\n",
       "      <td>0.3169</td>\n",
       "    </tr>\n",
       "  </tbody>\n",
       "</table>\n",
       "</div>"
      ],
      "text/plain": [
       "  Fold Threshold F-2_Score\n",
       "0    1    0.8864    0.3279\n",
       "1    2      0.05      0.04\n",
       "2    3    0.9318    0.3419\n",
       "3    4    0.5136    0.1172\n",
       "4    5    0.4318     0.121\n",
       "5    6      0.35    0.2212\n",
       "6    7    0.8682    0.2941\n",
       "7    8    0.8591    0.1653\n",
       "8    9      0.05    0.4104\n",
       "9   10    0.1045    0.3169"
      ]
     },
     "execution_count": 24,
     "metadata": {},
     "output_type": "execute_result"
    }
   ],
   "source": [
    "GB_CV_Results = pd.DataFrame(columns=['Fold', 'Threshold', 'F-2_Score'], index = range(10))\n",
    "fold = 1\n",
    "for train_index, test_index in kf.split(X_train,y_train):\n",
    "    X_train_cv = X_train.iloc[train_index]\n",
    "    y_train_cv = y_train.iloc[train_index]\n",
    "    X_test_cv = X_train.iloc[test_index]\n",
    "    y_test_cv = y_train.iloc[test_index]\n",
    "    X_resampled, y_resampled = SMOTE(random_state= 575).fit_resample(X_train_cv, y_train_cv)\n",
    "    \n",
    "    cv_gb = gb_random.best_estimator_.fit(X_resampled,y_resampled)\n",
    "    \n",
    "    temp_df = Fb_thresh(X_test_cv,y_test_cv, cv_gb, Beta = 2)\n",
    "    \n",
    "    GB_CV_Results['Fold'][fold-1] = fold\n",
    "    GB_CV_Results['Threshold'][fold-1] = round(temp_df['threshold'][0],4)\n",
    "    GB_CV_Results['F-2_Score'][fold-1] = round(temp_df['F-Beta_Score'][0],4)\n",
    "    fold += 1\n",
    "    \n",
    "GB_CV_Results"
   ]
  },
  {
   "cell_type": "markdown",
   "id": "30c453eb",
   "metadata": {},
   "source": [
    "## Metrics and Model Selection\n"
   ]
  },
  {
   "cell_type": "code",
   "execution_count": 48,
   "id": "519d9105",
   "metadata": {},
   "outputs": [
    {
     "name": "stdout",
     "output_type": "stream",
     "text": [
      "╒═══════════╤═════════╤═══════╤═══════╕\n",
      "│ Model     │   Logit │    RF │    GB │\n",
      "╞═══════════╪═════════╪═══════╪═══════╡\n",
      "│ Threshold │   0.345 │ 0.175 │ 0.505 │\n",
      "├───────────┼─────────┼───────┼───────┤\n",
      "│ F-2_Score │   0.373 │ 0.386 │ 0.236 │\n",
      "╘═══════════╧═════════╧═══════╧═══════╛\n"
     ]
    }
   ],
   "source": [
    "result_table = [['Model','Logit','RF','GB'],\n",
    "                ['Threshold',round(Log_CV_Results['Threshold'].mean(),3),\n",
    "                 round(RF_CV_Results['Threshold'].mean(),3),\n",
    "                 round(GB_CV_Results['Threshold'].mean(),3)],\n",
    "                ['F-2_Score',round(Log_CV_Results['F-2_Score'].mean(),3),\n",
    "                 round(RF_CV_Results['F-2_Score'].mean(),3),round(GB_CV_Results['F-2_Score'].mean(),3)]]\n",
    "\n",
    "print(tabulate(result_table,headers='firstrow', tablefmt='fancy_grid'))"
   ]
  },
  {
   "cell_type": "markdown",
   "id": "52ca2cd9",
   "metadata": {},
   "source": [
    "Using the models built during validation, a final test is performed on the test data"
   ]
  },
  {
   "cell_type": "code",
   "execution_count": 62,
   "id": "b87ddc4f",
   "metadata": {},
   "outputs": [],
   "source": [
    "# Final probabilites for the Logistic Model\n",
    "X_test_log = X_test.copy()\n",
    "X_test_log['intercept'] = 1\n",
    "log_results = logit_model.fit()\n",
    "log_prob = logit_model.predict(params = log_results.params, exog =  X_test_log[log_col])\n",
    "\n",
    "# Final probabilities for the Random Forest Model\n",
    "rf_prob = cv_rf.predict_proba(X_test)[:,1]\n",
    "\n",
    "# Final probabilities for the Gradient Boosting Model\n",
    "gb_prob = cv_gb.predict_proba(X_test)[:,1]"
   ]
  },
  {
   "cell_type": "code",
   "execution_count": 68,
   "id": "456ea304",
   "metadata": {},
   "outputs": [],
   "source": [
    "model_pred = pd.DataFrame(columns=['Log','RF','GB'], index = range(len(X_test)))\n",
    "\n",
    "for i in range(len(X_test)):\n",
    "    if log_prob[i] >= Log_CV_Results['Threshold'].mean():\n",
    "        model_pred['Log'][i] = 1\n",
    "    else:\n",
    "        model_pred['Log'][i] = 0\n",
    "    if rf_prob[i] >= RF_CV_Results['Threshold'].mean():\n",
    "        model_pred['RF'][i] = 1\n",
    "    else:\n",
    "        model_pred['RF'][i] = 0\n",
    "    if gb_prob[i] >= GB_CV_Results['Threshold'].mean():\n",
    "        model_pred['GB'][i] = 1\n",
    "    else:\n",
    "        model_pred['GB'][i] = 0\n",
    "    "
   ]
  },
  {
   "cell_type": "code",
   "execution_count": 82,
   "id": "81a1d366",
   "metadata": {},
   "outputs": [
    {
     "data": {
      "text/plain": [
       "array([[418, 184],\n",
       "       [  9,  28]], dtype=int64)"
      ]
     },
     "execution_count": 82,
     "metadata": {},
     "output_type": "execute_result"
    }
   ],
   "source": [
    "confusion_matrix(y_test, model_pred['Log'].astype('int64'))"
   ]
  },
  {
   "cell_type": "code",
   "execution_count": 83,
   "id": "2d6b4bb3",
   "metadata": {},
   "outputs": [
    {
     "data": {
      "text/plain": [
       "array([[479, 123],\n",
       "       [ 17,  20]], dtype=int64)"
      ]
     },
     "execution_count": 83,
     "metadata": {},
     "output_type": "execute_result"
    }
   ],
   "source": [
    "confusion_matrix(y_test, model_pred['RF'].astype('int64'))"
   ]
  },
  {
   "cell_type": "code",
   "execution_count": 84,
   "id": "3e9291f0",
   "metadata": {},
   "outputs": [
    {
     "data": {
      "text/plain": [
       "array([[537,  65],\n",
       "       [ 27,  10]], dtype=int64)"
      ]
     },
     "execution_count": 84,
     "metadata": {},
     "output_type": "execute_result"
    }
   ],
   "source": [
    "confusion_matrix(y_test, model_pred['GB'].astype('int64'))"
   ]
  },
  {
   "cell_type": "code",
   "execution_count": 86,
   "id": "35c78abb",
   "metadata": {},
   "outputs": [
    {
     "data": {
      "text/plain": [
       "0.38888888888888884"
      ]
     },
     "execution_count": 86,
     "metadata": {},
     "output_type": "execute_result"
    }
   ],
   "source": [
    "fbeta_score(y_test, model_pred['Log'].astype('int64'), beta = 2)"
   ]
  },
  {
   "cell_type": "code",
   "execution_count": 87,
   "id": "fc88299e",
   "metadata": {},
   "outputs": [
    {
     "data": {
      "text/plain": [
       "0.34364261168384885"
      ]
     },
     "execution_count": 87,
     "metadata": {},
     "output_type": "execute_result"
    }
   ],
   "source": [
    "fbeta_score(y_test, model_pred['RF'].astype('int64'), beta = 2)"
   ]
  },
  {
   "cell_type": "code",
   "execution_count": 88,
   "id": "daa865d3",
   "metadata": {},
   "outputs": [
    {
     "data": {
      "text/plain": [
       "0.22421524663677128"
      ]
     },
     "execution_count": 88,
     "metadata": {},
     "output_type": "execute_result"
    }
   ],
   "source": [
    "fbeta_score(y_test, model_pred['GB'].astype('int64'), beta = 2)"
   ]
  },
  {
   "cell_type": "markdown",
   "id": "4e1c1a59",
   "metadata": {},
   "source": [
    "## Extra Information"
   ]
  },
  {
   "cell_type": "code",
   "execution_count": 93,
   "id": "252d13a1",
   "metadata": {},
   "outputs": [
    {
     "data": {
      "text/plain": [
       "<sklearn.inspection._plot.partial_dependence.PartialDependenceDisplay at 0x1a13a5e8970>"
      ]
     },
     "execution_count": 93,
     "metadata": {},
     "output_type": "execute_result"
    },
    {
     "data": {
      "image/png": "[encoded data removed]",
      "text/plain": [
       "<Figure size 432x288 with 3 Axes>"
      ]
     },
     "metadata": {},
     "output_type": "display_data"
    }
   ],
   "source": [
    "PartialDependenceDisplay.from_estimator(cv_rf, X_train, ['age','avg_glucose_level'])"
   ]
  },
  {
   "cell_type": "code",
   "execution_count": 94,
   "id": "a0cbfc13",
   "metadata": {},
   "outputs": [
    {
     "data": {
      "text/plain": [
       "<sklearn.inspection._plot.partial_dependence.PartialDependenceDisplay at 0x1a13ac919a0>"
      ]
     },
     "execution_count": 94,
     "metadata": {},
     "output_type": "execute_result"
    },
    {
     "data": {
      "image/png": "[encoded data removed]",
      "text/plain": [
       "<Figure size 432x288 with 3 Axes>"
      ]
     },
     "metadata": {},
     "output_type": "display_data"
    }
   ],
   "source": [
    "PartialDependenceDisplay.from_estimator(cv_gb, X_train, ['age','avg_glucose_level'])"
   ]
  },
  {
   "cell_type": "code",
   "execution_count": null,
   "id": "88e5ee31",
   "metadata": {},
   "outputs": [],
   "source": []
  }
 ],
 "metadata": {
  "kernelspec": {
   "display_name": "Python 3 (ipykernel)",
   "language": "python",
   "name": "python3"
  },
  "language_info": {
   "codemirror_mode": {
    "name": "ipython",
    "version": 3
   },
   "file_extension": ".py",
   "mimetype": "text/x-python",
   "name": "python",
   "nbconvert_exporter": "python",
   "pygments_lexer": "ipython3",
   "version": "3.9.7"
  }
 },
 "nbformat": 4,
 "nbformat_minor": 5
}
